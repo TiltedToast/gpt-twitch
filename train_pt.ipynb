{
 "cells": [
  {
   "cell_type": "code",
   "execution_count": 1,
   "metadata": {},
   "outputs": [],
   "source": [
    "import glob\n",
    "import os\n",
    "\n",
    "import torch\n",
    "\n",
    "from models_pt import GPTLanguageModel"
   ]
  },
  {
   "cell_type": "code",
   "execution_count": 2,
   "metadata": {},
   "outputs": [],
   "source": [
    "def read_all_files_to_string(directory):\n",
    "    combined_string = \"\"\n",
    "    for filepath in glob.glob(os.path.join(directory, \"**\", \"*\"), recursive=True):\n",
    "        if os.path.isfile(filepath):\n",
    "            with open(filepath, \"r\", encoding=\"utf-8\") as file:\n",
    "                combined_string += file.read() + \"\\n\"\n",
    "    return combined_string\n",
    "\n",
    "\n",
    "def prepare_data(text, device):\n",
    "    lines = text.splitlines()\n",
    "    lines = [line for line in lines if all(c.isascii() for c in line)]\n",
    "    chars = sorted(list(set(\"\".join(lines))))\n",
    "    vocab_size = len(chars)\n",
    "    stoi = {ch: i for i, ch in enumerate(chars)}\n",
    "    itos = {i: ch for i, ch in enumerate(chars)}\n",
    "\n",
    "    def encode(string):\n",
    "        return [stoi[c] for c in string]\n",
    "\n",
    "    def decode(tokens):\n",
    "        return \"\".join([itos[i] for i in tokens])\n",
    "\n",
    "    encoded_lines = [torch.tensor(encode(line), dtype=torch.long) for line in lines]\n",
    "    data = torch.cat(encoded_lines)\n",
    "\n",
    "    n = len(data)\n",
    "    train_data = data[: int(n * 0.8)].to(device)\n",
    "    val_data = data[int(n * 0.8) :].to(device)\n",
    "\n",
    "    return train_data, val_data, encode, decode, vocab_size\n"
   ]
  },
  {
   "cell_type": "code",
   "execution_count": 3,
   "metadata": {},
   "outputs": [],
   "source": [
    "def get_batch(data, block_size, batch_size):\n",
    "    ix = torch.randint(len(data) - block_size, (batch_size,))\n",
    "    x = torch.stack([data[i : i + block_size] for i in ix])\n",
    "    y = torch.stack([data[i + 1 : i + block_size + 1] for i in ix])\n",
    "    return x, y\n"
   ]
  },
  {
   "cell_type": "code",
   "execution_count": 4,
   "metadata": {},
   "outputs": [],
   "source": [
    "@torch.no_grad()\n",
    "def estimate_loss(\n",
    "    train_data,\n",
    "    val_data,\n",
    "    eval_interval,\n",
    "    block_size,\n",
    "    batch_size,\n",
    "    model,\n",
    "):\n",
    "    out = {}\n",
    "    mapping = {\"train\": train_data, \"val\": val_data}\n",
    "    model.eval()\n",
    "    for split in [\"train\", \"val\"]:\n",
    "        losses = torch.zeros(eval_interval)\n",
    "        for k in range(eval_interval):\n",
    "            X, Y = get_batch(mapping[split], block_size, batch_size)\n",
    "            logits, loss = model(X, Y)\n",
    "            losses[k] = loss.item()\n",
    "        out[split] = losses.mean()\n",
    "    model.train()\n",
    "    return out\n"
   ]
  },
  {
   "cell_type": "code",
   "execution_count": 5,
   "metadata": {},
   "outputs": [],
   "source": [
    "def train_model(\n",
    "    model,\n",
    "    train_data,\n",
    "    val_data,\n",
    "    block_size,\n",
    "    batch_size,\n",
    "    learning_rate,\n",
    "    max_epochs,\n",
    "    eval_interval,\n",
    "):\n",
    "    optimizer = torch.optim.AdamW(model.parameters(), lr=learning_rate)\n",
    "\n",
    "    for epoch in range(max_epochs):\n",
    "        x_batch, y_batch = get_batch(train_data, block_size, batch_size)\n",
    "        _, train_loss = model(x_batch, y_batch)\n",
    "        optimizer.zero_grad(set_to_none=True)\n",
    "        train_loss.backward()\n",
    "        optimizer.step()\n",
    "\n",
    "        output = f\"Epoch {epoch}: Train loss {train_loss:.4f}\"\n",
    "\n",
    "        if epoch % 10 == 0:\n",
    "            x_batch, y_batch = get_batch(val_data, block_size, batch_size)\n",
    "            _, val_loss = model(x_batch, y_batch)\n",
    "            output += f\", Val loss {val_loss:.4f}\"\n",
    "\n",
    "        print(output)\n"
   ]
  },
  {
   "cell_type": "code",
   "execution_count": 6,
   "metadata": {},
   "outputs": [],
   "source": [
    "batch_size = 256\n",
    "block_size = 512\n",
    "max_epochs = 20\n",
    "eval_interval = 250\n",
    "learning_rate = 3e-4\n",
    "device = \"cuda\" if torch.cuda.is_available() else \"cpu\"\n",
    "n_embd = 384\n",
    "n_head = 6\n",
    "n_layer = 6\n",
    "dropout = 0.2\n"
   ]
  },
  {
   "cell_type": "code",
   "execution_count": 7,
   "metadata": {},
   "outputs": [],
   "source": [
    "text = read_all_files_to_string(\"data/shakespeare\")\n",
    "train_data, val_data, encode, decode, vocab_size = prepare_data(text, device)\n",
    "\n",
    "model = GPTLanguageModel(\n",
    "    vocab_size,\n",
    "    n_embd,\n",
    "    block_size,\n",
    "    n_layer,\n",
    "    n_head,\n",
    "    device,\n",
    "    dropout,\n",
    ").to(device)\n"
   ]
  },
  {
   "cell_type": "code",
   "execution_count": null,
   "metadata": {},
   "outputs": [],
   "source": [
    "model.load_state_dict(torch.load(\"model.pt\"))\n",
    "model.eval()"
   ]
  },
  {
   "cell_type": "code",
   "execution_count": null,
   "metadata": {},
   "outputs": [],
   "source": [
    "train_model(\n",
    "    model,\n",
    "    train_data,\n",
    "    val_data,\n",
    "    block_size,\n",
    "    batch_size,\n",
    "    learning_rate,\n",
    "    max_epochs,\n",
    "    eval_interval,\n",
    ")"
   ]
  },
  {
   "cell_type": "code",
   "execution_count": null,
   "metadata": {},
   "outputs": [],
   "source": [
    "context = torch.tensor([encode(\"gigachad \")], dtype=torch.long, device=device)\n",
    "print(decode(model.generate(context, max_new_tokens=100)[0].tolist()))\n"
   ]
  },
  {
   "cell_type": "code",
   "execution_count": null,
   "metadata": {},
   "outputs": [],
   "source": [
    "# list the number of total parameters in the model\n",
    "total_params = sum(p.numel() for p in model.parameters() if p.requires_grad)\n",
    "print(f\"Total number of trainable parameters: {total_params}\")"
   ]
  },
  {
   "cell_type": "code",
   "execution_count": 35,
   "metadata": {},
   "outputs": [],
   "source": [
    "torch.save(model.state_dict(), 'model.pt')"
   ]
  }
 ],
 "metadata": {
  "kernelspec": {
   "display_name": ".venv",
   "language": "python",
   "name": "python3"
  },
  "language_info": {
   "codemirror_mode": {
    "name": "ipython",
    "version": 3
   },
   "file_extension": ".py",
   "mimetype": "text/x-python",
   "name": "python",
   "nbconvert_exporter": "python",
   "pygments_lexer": "ipython3",
   "version": "3.12.6"
  }
 },
 "nbformat": 4,
 "nbformat_minor": 2
}
